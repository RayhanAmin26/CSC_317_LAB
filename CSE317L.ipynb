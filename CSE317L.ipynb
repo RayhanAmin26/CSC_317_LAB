{
  "nbformat": 4,
  "nbformat_minor": 0,
  "metadata": {
    "colab": {
      "provenance": []
    },
    "kernelspec": {
      "name": "python3",
      "display_name": "Python 3"
    },
    "language_info": {
      "name": "python"
    }
  },
  "cells": [
    {
      "cell_type": "markdown",
      "source": [
        "# **Class_01**\n"
      ],
      "metadata": {
        "id": "rL1--BU_riV8"
      }
    },
    {
      "cell_type": "code",
      "source": [
        "x=[2,4,6,8]\n",
        "for i in x:\n",
        "  print (i)"
      ],
      "metadata": {
        "colab": {
          "base_uri": "https://localhost:8080/"
        },
        "id": "QwCrqxcYroCF",
        "outputId": "e82505aa-77b3-4154-c2de-c0b390952b1e"
      },
      "execution_count": null,
      "outputs": [
        {
          "output_type": "stream",
          "name": "stdout",
          "text": [
            "2\n",
            "4\n",
            "6\n",
            "8\n"
          ]
        }
      ]
    },
    {
      "cell_type": "code",
      "source": [
        "fruits=[\"Apple\",\"Banana\"]\n",
        "for i in fruits:\n",
        "  print (i)"
      ],
      "metadata": {
        "colab": {
          "base_uri": "https://localhost:8080/"
        },
        "id": "y205_DM2BuWn",
        "outputId": "de5d4ecf-dc3d-415b-815a-417029338ac2"
      },
      "execution_count": null,
      "outputs": [
        {
          "output_type": "stream",
          "name": "stdout",
          "text": [
            "Apple\n",
            "Banana\n"
          ]
        }
      ]
    },
    {
      "cell_type": "code",
      "source": [
        "fruits=[\"Apple\",\"Banana\",\"Mango\"]\n",
        "for i in fruits:\n",
        "  print (i)"
      ],
      "metadata": {
        "colab": {
          "base_uri": "https://localhost:8080/"
        },
        "id": "STFNLRlhB_R_",
        "outputId": "4930f44a-edbb-4095-fadd-be8f9df45ad4"
      },
      "execution_count": null,
      "outputs": [
        {
          "output_type": "stream",
          "name": "stdout",
          "text": [
            "Apple\n",
            "Banana\n",
            "Mango\n"
          ]
        }
      ]
    },
    {
      "cell_type": "code",
      "source": [
        "fruits=[\"Apple\",\"Banana\"]\n",
        "for i in fruits:\n",
        "  print (i,end=\".\")"
      ],
      "metadata": {
        "colab": {
          "base_uri": "https://localhost:8080/"
        },
        "id": "CNyx9r0rCXD_",
        "outputId": "04f65dac-7d87-47a0-ce8b-8621ed5a5875"
      },
      "execution_count": null,
      "outputs": [
        {
          "output_type": "stream",
          "name": "stdout",
          "text": [
            "Apple.Banana."
          ]
        }
      ]
    },
    {
      "cell_type": "code",
      "source": [
        "fruits = [\"Apple\", \"Banana\"]\n",
        "for i in range(len(fruits)):\n",
        "    if i < len(fruits) - 1:\n",
        "        print(fruits[i], end=\",\")\n",
        "    else:\n",
        "        print(fruits[i])\n"
      ],
      "metadata": {
        "colab": {
          "base_uri": "https://localhost:8080/"
        },
        "id": "wHmGsRwPEbrW",
        "outputId": "b295afb0-f359-4f7a-8308-9da22bae5fb7"
      },
      "execution_count": null,
      "outputs": [
        {
          "output_type": "stream",
          "name": "stdout",
          "text": [
            "Apple,Banana\n"
          ]
        }
      ]
    },
    {
      "cell_type": "code",
      "source": [
        "fruits = [\"Apple\", \"Banana\"]\n",
        "print(\",\".join(fruits))\n"
      ],
      "metadata": {
        "colab": {
          "base_uri": "https://localhost:8080/"
        },
        "id": "fhkQh4CVEe-u",
        "outputId": "f5960d2d-e946-4b02-a341-9171d4314ae6"
      },
      "execution_count": null,
      "outputs": [
        {
          "output_type": "stream",
          "name": "stdout",
          "text": [
            "Apple,Banana\n"
          ]
        }
      ]
    },
    {
      "cell_type": "code",
      "source": [
        "fruits = [\"Apple\", \"Banana\",\"Mango\",\"Coconut\"]\n",
        "print(\",\".join(fruits))\n"
      ],
      "metadata": {
        "colab": {
          "base_uri": "https://localhost:8080/"
        },
        "id": "AXnGCitcEng-",
        "outputId": "a6b2aae1-bff0-41bf-d735-2ebc63c2fe6a"
      },
      "execution_count": null,
      "outputs": [
        {
          "output_type": "stream",
          "name": "stdout",
          "text": [
            "Apple,Banana,Mango,Coconut\n"
          ]
        }
      ]
    },
    {
      "cell_type": "code",
      "source": [
        "x=[2,4,6,8]\n",
        "squrs = []\n",
        "for i in x:\n",
        "  squrs.append(i**2)\n",
        "  print (squrs)"
      ],
      "metadata": {
        "colab": {
          "base_uri": "https://localhost:8080/"
        },
        "id": "fnNUokYdGvsW",
        "outputId": "341cec5a-55f8-4774-fb69-4e85ffe86140"
      },
      "execution_count": null,
      "outputs": [
        {
          "output_type": "stream",
          "name": "stdout",
          "text": [
            "[4]\n",
            "[4, 16]\n",
            "[4, 16, 36]\n",
            "[4, 16, 36, 64]\n"
          ]
        }
      ]
    },
    {
      "cell_type": "code",
      "source": [
        "x = [2, 4, 6, 8]\n",
        "squrs = []\n",
        "for i in x:\n",
        "    squrs.append(i**2)\n",
        "print(squrs)\n"
      ],
      "metadata": {
        "colab": {
          "base_uri": "https://localhost:8080/"
        },
        "id": "YiAuJy5FHh6d",
        "outputId": "96a3ebe8-9ac4-48ce-816f-421e77671e38"
      },
      "execution_count": null,
      "outputs": [
        {
          "output_type": "stream",
          "name": "stdout",
          "text": [
            "[4, 16, 36, 64]\n"
          ]
        }
      ]
    }
  ]
}