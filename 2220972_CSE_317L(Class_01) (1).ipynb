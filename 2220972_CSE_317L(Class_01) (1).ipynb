{
  "nbformat": 4,
  "nbformat_minor": 0,
  "metadata": {
    "colab": {
      "provenance": []
    },
    "kernelspec": {
      "name": "python3",
      "display_name": "Python 3"
    },
    "language_info": {
      "name": "python"
    }
  },
  "cells": [
    {
      "cell_type": "code",
      "execution_count": null,
      "metadata": {
        "colab": {
          "base_uri": "https://localhost:8080/"
        },
        "id": "XaD8LQbjq2Kv",
        "outputId": "ac97a84d-0f9a-441b-9472-2cb8651f7dd3"
      },
      "outputs": [
        {
          "output_type": "stream",
          "name": "stdout",
          "text": [
            "Apple,Bananamango,pineapple,dragon_fruit,passion_fruit\n"
          ]
        }
      ],
      "source": [
        "fruits = [\"Apple\", \"Banana\" \"mango\",\"pineapple\",\"dragon_fruit\", \"passion_fruit\"]\n",
        "for i in range(len(fruits)):\n",
        "    if i < len(fruits) - 1:\n",
        "        print(fruits[i], end=\",\")\n",
        "    else:\n",
        "        print(fruits[i])\n"
      ]
    },
    {
      "cell_type": "code",
      "source": [
        "fruits = [\"Apple\", \"Banana\"\"mango\",\"pineapple\",\"dragon_fruit\", \"passion_fruit\",\"blueberry\",\"black_grape\"]\n",
        "print(\",\".join(fruits))"
      ],
      "metadata": {
        "colab": {
          "base_uri": "https://localhost:8080/"
        },
        "id": "hyiG2VQzsiB5",
        "outputId": "be62fb7f-9d69-4447-8798-7395e1344822"
      },
      "execution_count": null,
      "outputs": [
        {
          "output_type": "stream",
          "name": "stdout",
          "text": [
            "Apple,Bananamango,pineapple,dragon_fruit,passion_fruit,blueberry,black_grape\n"
          ]
        }
      ]
    }
  ]
}